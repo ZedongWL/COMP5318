{
  "cells": [
    {
      "cell_type": "markdown",
      "metadata": {
        "id": "8SNcnl9UIYZ6"
      },
      "source": [
        "# COMP5318 Assignment1 -- Group 98"
      ]
    },
    {
      "cell_type": "markdown",
      "metadata": {
        "id": "Pu3PdU2p7qpf"
      },
      "source": [
        "## Step1: load the data"
      ]
    },
    {
      "cell_type": "code",
      "execution_count": 1,
      "metadata": {
        "colab": {
          "base_uri": "https://localhost:8080/"
        },
        "id": "0Z96xiO_Gfld",
        "outputId": "4476d2b7-7dbb-4af1-bc38-fd27e8a4381e"
      },
      "outputs": [
        {
          "output_type": "stream",
          "name": "stdout",
          "text": [
            "['train.csv']\n"
          ]
        }
      ],
      "source": [
        "import pandas as pd\n",
        "import os\n",
        "print(os.listdir(\"./Input/train\"))\n",
        "pd.set_option('display.max_columns', 10)"
      ]
    },
    {
      "cell_type": "code",
      "execution_count": 2,
      "metadata": {
        "id": "31b9qZtMNc6V"
      },
      "outputs": [],
      "source": [
        "# train.csv including feature and label using for training model.\n",
        "data_train_df = pd.read_csv('./Input/train/train.csv')\n",
        "# test_input.csv includes 5000 samples used for label prediction. Test samples do not have labels.\n",
        "data_test_df = pd.read_csv('./Input/test/test_input.csv')"
      ]
    },
    {
      "cell_type": "code",
      "execution_count": 3,
      "metadata": {
        "id": "K5ItUIIW7EW9"
      },
      "outputs": [],
      "source": [
        "# Selecting training input feature\n",
        "data_train_feature = data_train_df.loc[:, \"v1\":\"v784\"].to_numpy()\n",
        "# Selecting training output lable\n",
        "data_train_label = data_train_df.label.to_numpy()\n",
        "# Selecting test input feature\n",
        "data_test_feature = data_test_df.loc[:, \"v1\":\"v784\"].to_numpy()"
      ]
    },
    {
      "cell_type": "code",
      "execution_count": 4,
      "metadata": {
        "id": "xJS7rW3_rG5F"
      },
      "outputs": [],
      "source": [
        "# Selecting training&test input and output as list\n",
        "data_train_ls = data_train_df.loc[:, \"v1\":\"v784\"].values.tolist()\n",
        "\n",
        "data_test_ls = data_test_df.loc[:, \"v1\":\"v784\"].values.tolist()"
      ]
    },
    {
      "cell_type": "markdown",
      "metadata": {
        "id": "UojNLtExoLWI"
      },
      "source": [
        "## Step2: Pre-processing data"
      ]
    },
    {
      "cell_type": "markdown",
      "metadata": {
        "id": "kvh-yAEgqUmG"
      },
      "source": [
        "### Histogram of Oriented Gradient(HOG)"
      ]
    },
    {
      "cell_type": "code",
      "execution_count": 5,
      "metadata": {
        "id": "-Bb1RDFufWEI"
      },
      "outputs": [],
      "source": [
        "# Using Histogram of Oriented Gradient, HOG\n",
        "from skimage import feature as ft\n",
        "def hog_feature(image_list):\n",
        "    feature_hog_list = []\n",
        "    for i in range(len(image_list)):\n",
        "        feature_hog = ft.hog(image_list[i], orientations=9, pixels_per_cell=(8, 8), cells_per_block=(2, 2), \n",
        "                             feature_vector=True, multichannel=False)\n",
        "        feature_hog_list.append(feature_hog)\n",
        "    \n",
        "    return np.array(feature_hog_list)\n"
      ]
    },
    {
      "cell_type": "code",
      "execution_count": 6,
      "metadata": {
        "id": "MyQGF6AhkITb"
      },
      "outputs": [],
      "source": [
        "# Convert pixel data into image list - train\n",
        "from PIL import Image \n",
        "image_train_ls = []\n",
        "\n",
        "for i in range(len(data_train_ls)):\n",
        "  image_out = Image.new(\"L\",(28,28))\n",
        "  image_out.putdata(data_train_ls[i])\n",
        "  image_train_ls.append(image_out)"
      ]
    },
    {
      "cell_type": "code",
      "execution_count": 7,
      "metadata": {
        "id": "w_PaEE6CN3cS"
      },
      "outputs": [],
      "source": [
        "# Convert pixel data into image list - test\n",
        "image_test_ls = []\n",
        "\n",
        "for i in range(len(data_test_ls)):\n",
        "  image_out = Image.new(\"L\",(28,28))\n",
        "  image_out.putdata(data_test_ls[i])\n",
        "  image_test_ls.append(image_out)"
      ]
    },
    {
      "cell_type": "code",
      "execution_count": null,
      "metadata": {
        "colab": {
          "base_uri": "https://localhost:8080/",
          "height": 52
        },
        "id": "Ft7GqLCDAL-N",
        "outputId": "71f81577-0d5d-4452-c4a5-dcbbd62c0672"
      },
      "outputs": [
        {
          "output_type": "execute_result",
          "data": {
            "text/plain": [
              "'import matplotlib.pyplot as plt\\nnew = data_train_feature.reshape((data_train_feature.shape[0], 28, 28))\\nplt.imshow(new[0], cmap=plt.get_cmap(\\'gray\\'))\\nplt.title(\"class \" + str(data_train_label[0]) + \": Pullover\" )\\nplt.show()'"
            ],
            "application/vnd.google.colaboratory.intrinsic+json": {
              "type": "string"
            }
          },
          "metadata": {},
          "execution_count": 36
        }
      ],
      "source": [
        "\"\"\"import matplotlib.pyplot as plt\n",
        "new = data_train_feature.reshape((data_train_feature.shape[0], 28, 28))\n",
        "plt.imshow(new[0], cmap=plt.get_cmap('gray'))\n",
        "plt.title(\"class \" + str(data_train_label[0]) + \": Pullover\" )\n",
        "plt.show()\"\"\""
      ]
    },
    {
      "cell_type": "code",
      "execution_count": 8,
      "metadata": {
        "id": "pG3FCVmfPyvE"
      },
      "outputs": [],
      "source": [
        "# resize the image data\n",
        "img_train_ls = []\n",
        "for image in image_train_ls:\n",
        "  image = image.resize((64,64))\n",
        "  img_train_ls.append(image)\n",
        "\n",
        "img_test_ls = []\n",
        "for image in image_test_ls:\n",
        "  image = image.resize((64,64))\n",
        "  img_test_ls.append(image)"
      ]
    },
    {
      "cell_type": "code",
      "execution_count": 9,
      "metadata": {
        "id": "xT4HI3w_Qf1F"
      },
      "outputs": [],
      "source": [
        "# Run hog_feature-resize\n",
        "import numpy as np\n",
        "image_train_ls_fit = hog_feature(img_train_ls)\n",
        "\n",
        "image_test_ls_fit = hog_feature(img_test_ls)"
      ]
    },
    {
      "cell_type": "markdown",
      "metadata": {
        "id": "-mU_oKrfJ5JA"
      },
      "source": [
        "### Normalization"
      ]
    },
    {
      "cell_type": "code",
      "execution_count": 10,
      "metadata": {
        "id": "luzxhTj-J4U-"
      },
      "outputs": [],
      "source": [
        "# Normalization\n",
        "from sklearn.preprocessing import MinMaxScaler\n",
        "scaler = MinMaxScaler() # creating an object\n",
        "scaler.fit(image_train_ls_fit) # calculate min and max value of the training data\n",
        "\n",
        "data_train_feature_norm = scaler.transform(image_train_ls_fit) # apply normalization to the training set\n",
        "\n",
        "data_test_feature_norm = scaler.transform(image_test_ls_fit) # apply normalization to the test set"
      ]
    },
    {
      "cell_type": "code",
      "execution_count": 11,
      "metadata": {
        "colab": {
          "base_uri": "https://localhost:8080/"
        },
        "id": "JLpEqRJ6qfhH",
        "outputId": "8dc8a8a5-0185-42c8-9fad-08f3742495da"
      },
      "outputs": [
        {
          "output_type": "execute_result",
          "data": {
            "text/plain": [
              "1764"
            ]
          },
          "metadata": {},
          "execution_count": 11
        }
      ],
      "source": [
        "len(data_test_feature_norm[0])"
      ]
    },
    {
      "cell_type": "markdown",
      "metadata": {
        "id": "LBf-7VttDzmm"
      },
      "source": [
        "### PCA"
      ]
    },
    {
      "cell_type": "code",
      "source": [
        "\n",
        "from sklearn.decomposition import PCA\n",
        "import matplotlib.pyplot as plt\n",
        "import numpy as np\n",
        "\n",
        "# Perform PCA without reducing dimensionality\n",
        "pca = PCA()\n",
        "pca.fit(data_train_feature_norm)\n",
        "cumsum = np.cumsum(pca.explained_variance_ratio_)\n",
        "\n",
        "# Plot the explained variance vs number of dimensions \n",
        "# Plot 0.95 components\n",
        "\n",
        "plt.figure(figsize = (6,4))\n",
        "plt.plot(cumsum, linewidth=3)\n",
        "plt.axis([0, 1764, 0, 1]) \n",
        "plt.xlabel(\"dimensions\")\n",
        "plt.ylabel(\"explained variance\")\n",
        "plt.axhline(0.95, color='r', linestyle='--')\n",
        "plt.grid(True)\n",
        "\n",
        "plt.savefig('pca')\n",
        "plt.show()"
      ],
      "metadata": {
        "colab": {
          "base_uri": "https://localhost:8080/",
          "height": 283
        },
        "id": "phBt2CYZ5oWU",
        "outputId": "177ecbde-7db9-4295-f2bc-41ad0f2a500a"
      },
      "execution_count": 17,
      "outputs": [
        {
          "output_type": "display_data",
          "data": {
            "text/plain": [
              "<Figure size 432x288 with 1 Axes>"
            ],
            "image/png": "[encoded data removed]"
          },
          "metadata": {
            "needs_background": "light"
          }
        }
      ]
    },
    {
      "cell_type": "code",
      "execution_count": 34,
      "metadata": {
        "colab": {
          "base_uri": "https://localhost:8080/"
        },
        "id": "Ba8tWR5ZDzJW",
        "outputId": "b2d8d87d-6ac9-468d-f371-d6397a569cdf"
      },
      "outputs": [
        {
          "output_type": "stream",
          "name": "stdout",
          "text": [
            "Original shape of training data: (30000, 1764)\n",
            "Reduced shape of training data: (30000, 473)\n",
            "Original shape of test data: (5000, 1764)\n",
            "Reduced shape of test data: (5000, 473)\n"
          ]
        }
      ],
      "source": [
        "# set n_components=0.95 for training and test data\n",
        "from sklearn.decomposition import PCA\n",
        "import matplotlib.pyplot as plot\n",
        "import numpy as np\n",
        "\n",
        "pca = PCA(n_components=0.95)\n",
        "pca.fit(data_train_feature_norm)  \n",
        "\n",
        "data_train_feature_norm_pca = pca.transform(data_train_feature_norm)\n",
        "\n",
        "data_test_feature_norm_pca = pca.transform(data_test_feature_norm)\n",
        "\n",
        "\n",
        "print(\"Original shape of training data: {}\".format(str(data_train_feature_norm.shape)))\n",
        "print(\"Reduced shape of training data: {}\".format(str(data_train_feature_norm_pca.shape)))   \n",
        "print(\"Original shape of test data: {}\".format(str(data_test_feature_norm.shape)))\n",
        "print(\"Reduced shape of test data: {}\".format(str(data_test_feature_norm_pca.shape)))   "
      ]
    },
    {
      "cell_type": "markdown",
      "source": [
        "## Step3: Implement the algorithms on default settings"
      ],
      "metadata": {
        "id": "aOKTmi1jGtEc"
      }
    },
    {
      "cell_type": "markdown",
      "source": [
        "### 1. K-Nearest Neighbor"
      ],
      "metadata": {
        "id": "E0hVrhRFG4nu"
      }
    },
    {
      "cell_type": "code",
      "source": [
        "# default setting for KNN\n",
        "from sklearn.neighbors import KNeighborsClassifier\n",
        "knn = KNeighborsClassifier()\n",
        "knn.fit(data_train_feature_norm_pca, data_train_label)\n",
        "print(\"Accuracy on training set: {:.3f}\".format(knn.score(data_train_feature_norm_pca, data_train_label)))"
      ],
      "metadata": {
        "colab": {
          "base_uri": "https://localhost:8080/"
        },
        "id": "gu9i9M63Gy1V",
        "outputId": "42e63a3f-4a82-4ba6-a783-db4c3c0da9c3"
      },
      "execution_count": null,
      "outputs": [
        {
          "output_type": "stream",
          "name": "stdout",
          "text": [
            "Accuracy on training set: 0.927\n"
          ]
        }
      ]
    },
    {
      "cell_type": "markdown",
      "source": [
        "### 2. Logistic regression"
      ],
      "metadata": {
        "id": "eZXMe-_2IToD"
      }
    },
    {
      "cell_type": "code",
      "source": [
        "# default setting for logistic regression\n",
        "from sklearn.linear_model import LogisticRegression\n",
        "logreg = LogisticRegression()\n",
        "logreg.fit(data_train_feature_norm_pca, data_train_label)\n",
        "print(\"Accuracy on training set: {:.3f}\".format(logreg.score(data_train_feature_norm_pca, data_train_label)))"
      ],
      "metadata": {
        "colab": {
          "base_uri": "https://localhost:8080/"
        },
        "id": "aA55-i_8Icoc",
        "outputId": "5aa27d74-0807-4867-c50c-3f36fb8c5442"
      },
      "execution_count": null,
      "outputs": [
        {
          "output_type": "stream",
          "name": "stdout",
          "text": [
            "Accuracy on training set: 0.928\n"
          ]
        },
        {
          "output_type": "stream",
          "name": "stderr",
          "text": [
            "/usr/local/lib/python3.7/dist-packages/sklearn/linear_model/_logistic.py:818: ConvergenceWarning: lbfgs failed to converge (status=1):\n",
            "STOP: TOTAL NO. of ITERATIONS REACHED LIMIT.\n",
            "\n",
            "Increase the number of iterations (max_iter) or scale the data as shown in:\n",
            "    https://scikit-learn.org/stable/modules/preprocessing.html\n",
            "Please also refer to the documentation for alternative solver options:\n",
            "    https://scikit-learn.org/stable/modules/linear_model.html#logistic-regression\n",
            "  extra_warning_msg=_LOGISTIC_SOLVER_CONVERGENCE_MSG,\n"
          ]
        }
      ]
    },
    {
      "cell_type": "markdown",
      "source": [
        "### 3. Naïve Bayes"
      ],
      "metadata": {
        "id": "hqHiYR20JWSs"
      }
    },
    {
      "cell_type": "code",
      "source": [
        "# default setting for Naïve Bayes\n",
        "from sklearn.naive_bayes import GaussianNB\n",
        "\n",
        "nb = GaussianNB()\n",
        "nb.fit(data_train_feature_norm_pca, data_train_label)\n",
        "print(\"Accuracy on training set: {:.3f}\".format(nb.score(data_train_feature_norm_pca, data_train_label)))"
      ],
      "metadata": {
        "colab": {
          "base_uri": "https://localhost:8080/"
        },
        "id": "X6vxRdVIJWkD",
        "outputId": "41bf7a7a-c62c-452b-d001-47230f8be4a7"
      },
      "execution_count": null,
      "outputs": [
        {
          "output_type": "stream",
          "name": "stdout",
          "text": [
            "Accuracy on training set: 0.787\n"
          ]
        }
      ]
    },
    {
      "cell_type": "markdown",
      "source": [
        "### 4. Decision Tree"
      ],
      "metadata": {
        "id": "1uQ6DgSxKOV6"
      }
    },
    {
      "cell_type": "code",
      "source": [
        "# default setting for Decision Tree\n",
        "from sklearn.tree import DecisionTreeClassifier\n",
        "DT = DecisionTreeClassifier()\n",
        "DT.fit(data_train_feature_norm_pca, data_train_label)\n",
        "print(\"Accuracy on training set: {:.3f}\".format(DT.score(data_train_feature_norm_pca, data_train_label)))"
      ],
      "metadata": {
        "colab": {
          "base_uri": "https://localhost:8080/"
        },
        "id": "pU6PlCNeKPpy",
        "outputId": "7632188b-7755-4da3-adfc-2f722c0c7ba8"
      },
      "execution_count": null,
      "outputs": [
        {
          "output_type": "stream",
          "name": "stdout",
          "text": [
            "Accuracy on training set: 1.000\n"
          ]
        }
      ]
    },
    {
      "cell_type": "markdown",
      "source": [
        "### 5. SVM"
      ],
      "metadata": {
        "id": "DppIUh7BLVJh"
      }
    },
    {
      "cell_type": "code",
      "source": [
        "# default setting for SVM\n",
        "from sklearn.svm import SVC\n",
        "\n",
        "SVM = SVC()\n",
        "SVM.fit(data_train_feature_norm_pca, data_train_label)\n",
        "print(\"Accuracy on training set: {:.3f}\".format(SVM.score(data_train_feature_norm_pca, data_train_label)))"
      ],
      "metadata": {
        "colab": {
          "base_uri": "https://localhost:8080/"
        },
        "id": "sIHhEBh7LU1R",
        "outputId": "4061381a-96e3-4587-b829-17292b47845e"
      },
      "execution_count": null,
      "outputs": [
        {
          "output_type": "stream",
          "name": "stdout",
          "text": [
            "Accuracy on training set: 0.961\n"
          ]
        }
      ]
    },
    {
      "cell_type": "markdown",
      "source": [
        "### 6. Bagging"
      ],
      "metadata": {
        "id": "05h5fRzfMo55"
      }
    },
    {
      "cell_type": "code",
      "source": [
        "# default setting for Bagging\n",
        "from sklearn.ensemble import BaggingClassifier\n",
        "from sklearn.tree import DecisionTreeClassifier\n",
        "\n",
        "Bagging = BaggingClassifier()\n",
        "Bagging.fit(data_train_feature_norm_pca, data_train_label)\n",
        "print(\"Accuracy on training set: {:.3f}\".format(Bagging.score(data_train_feature_norm_pca, data_train_label)))"
      ],
      "metadata": {
        "colab": {
          "base_uri": "https://localhost:8080/"
        },
        "id": "bG5dR_ACMqEy",
        "outputId": "51c4db83-3780-45d7-910b-86d93c1c6acb"
      },
      "execution_count": null,
      "outputs": [
        {
          "output_type": "stream",
          "name": "stdout",
          "text": [
            "Accuracy on training set: 0.994\n"
          ]
        }
      ]
    },
    {
      "cell_type": "markdown",
      "source": [
        "### 7. Random forest"
      ],
      "metadata": {
        "id": "hKH6sH_VNua4"
      }
    },
    {
      "cell_type": "code",
      "source": [
        "# default setting for Random forest\n",
        "from sklearn.ensemble import RandomForestClassifier\n",
        "RndF = RandomForestClassifier()\n",
        "RndF.fit(data_train_feature_norm_pca, data_train_label)\n",
        "print(\"Accuracy on training set: {:.3f}\".format(RndF.score(data_train_feature_norm_pca, data_train_label)))"
      ],
      "metadata": {
        "colab": {
          "base_uri": "https://localhost:8080/"
        },
        "id": "TMhjfpd5Nvnw",
        "outputId": "2b772f20-0d11-42bf-a26a-6fafafdf5932"
      },
      "execution_count": null,
      "outputs": [
        {
          "output_type": "stream",
          "name": "stdout",
          "text": [
            "Accuracy on training set: 1.000\n"
          ]
        }
      ]
    },
    {
      "cell_type": "markdown",
      "metadata": {
        "id": "WepBn9_VOwzK"
      },
      "source": [
        "## Step4: Fine-tune hyper-parameters"
      ]
    },
    {
      "cell_type": "code",
      "execution_count": null,
      "metadata": {
        "id": "M3pdo-U10-ZL"
      },
      "outputs": [],
      "source": [
        "# Show all kinds of accuracy, recall, f1-score and visualization.\n",
        "from sklearn.metrics import classification_report\n",
        "from sklearn.metrics import confusion_matrix, ConfusionMatrixDisplay\n",
        "def category_show(model, x_val, y_val):\n",
        "    target_names = ['T-shirt/Top', 'Trouser', 'Pullover', 'Dress','Coat', 'Sandal', 'Shirt', 'Sneaker','Bag', 'Ankle boot']\n",
        "    y_pred = model.predict(x_val)\n",
        "    print(classification_report(y_val, y_pred, target_names=target_names))\n",
        "    cm = confusion_matrix(y_val, y_pred)\n",
        "    cm_display = ConfusionMatrixDisplay(cm).plot()"
      ]
    },
    {
      "cell_type": "markdown",
      "metadata": {
        "id": "n7SC-KihO3Am"
      },
      "source": [
        "### 1. K-Nearest Neighbor"
      ]
    },
    {
      "cell_type": "code",
      "execution_count": null,
      "metadata": {
        "colab": {
          "base_uri": "https://localhost:8080/"
        },
        "id": "wvhNCVunO6Xy",
        "outputId": "bf5fc56b-8cbe-42d8-b001-f2cba77845e6"
      },
      "outputs": [
        {
          "output_type": "stream",
          "name": "stdout",
          "text": [
            "Best parameters: {'n_neighbors': 5, 'p': 2}\n",
            "Best cross-validation score: 0.89\n",
            "Best estimator:\n",
            "KNeighborsClassifier()\n"
          ]
        }
      ],
      "source": [
        "# para tune KNN\n",
        "\n",
        "from sklearn.neighbors import KNeighborsClassifier\n",
        "from sklearn.model_selection import cross_val_score\n",
        "from sklearn.model_selection import GridSearchCV\n",
        "\n",
        "param_grid = {'n_neighbors': [1,3,5],'p': [1,2]}\n",
        "\n",
        "grid_search_knn = GridSearchCV(KNeighborsClassifier(), param_grid,cv=5, return_train_score=True) \n",
        "grid_search_knn.fit(data_train_feature_norm_pca, data_train_label)\n",
        "\n",
        "\n",
        "print(\"Best parameters: {}\".format(grid_search_knn.best_params_))\n",
        "print(\"Best cross-validation score: {:.2f}\".format(grid_search_knn.best_score_))\n",
        "print(\"Best estimator:\\n{}\".format(grid_search_knn.best_estimator_))"
      ]
    },
    {
      "cell_type": "code",
      "execution_count": null,
      "metadata": {
        "colab": {
          "base_uri": "https://localhost:8080/"
        },
        "id": "PG8TSoXO5cU4",
        "outputId": "30fe25ab-2b4d-4667-c946-5dca33af6b32"
      },
      "outputs": [
        {
          "output_type": "stream",
          "name": "stdout",
          "text": [
            "Running time: 13.10950756072998 Seconds\n"
          ]
        }
      ],
      "source": [
        "from sklearn.neighbors import KNeighborsClassifier\n",
        "from sklearn.model_selection import cross_val_score\n",
        "from sklearn.model_selection import GridSearchCV\n",
        "import time\n",
        "\n",
        "# the best parameter for KNN\n",
        "start=time.time()\n",
        "\n",
        "best__knn = KNeighborsClassifier(n_neighbors= 5,p = 2)\n",
        "best__knn.fit(data_train_feature_norm_pca, data_train_label)\n",
        "test_pred_best__knn = best__knn.predict(data_test_feature_norm_pca)\n",
        "end=time.time()\n",
        "print('Running time: %s Seconds'%(end-start))"
      ]
    },
    {
      "cell_type": "code",
      "source": [
        "# Accuracy visualization for KNN\n",
        "print(\"Accuracy on training set: {:.3f}\".format(best__knn.score(data_train_feature_norm_pca, data_train_label)))\n",
        "category_show(best__knn, data_train_feature_norm_pca, data_train_label)"
      ],
      "metadata": {
        "colab": {
          "base_uri": "https://localhost:8080/",
          "height": 591
        },
        "id": "z32d0jpqtetx",
        "outputId": "13031190-6e9c-4e59-f45c-e315b43c5544"
      },
      "execution_count": null,
      "outputs": [
        {
          "output_type": "stream",
          "name": "stdout",
          "text": [
            "Accuracy on training set: 0.927\n",
            "              precision    recall  f1-score   support\n",
            "\n",
            " T-shirt/Top       0.90      0.92      0.91      2972\n",
            "     Trouser       0.97      0.99      0.98      3026\n",
            "    Pullover       0.85      0.92      0.88      3036\n",
            "       Dress       0.92      0.93      0.93      3028\n",
            "        Coat       0.88      0.87      0.88      2985\n",
            "      Sandal       1.00      0.95      0.97      2967\n",
            "       Shirt       0.84      0.77      0.80      3001\n",
            "     Sneaker       0.94      0.99      0.96      3023\n",
            "         Bag       0.99      0.97      0.98      3007\n",
            "  Ankle boot       0.98      0.97      0.97      2955\n",
            "\n",
            "    accuracy                           0.93     30000\n",
            "   macro avg       0.93      0.93      0.93     30000\n",
            "weighted avg       0.93      0.93      0.93     30000\n",
            "\n"
          ]
        },
        {
          "output_type": "display_data",
          "data": {
            "text/plain": [
              "<Figure size 432x288 with 2 Axes>"
            ],
            "image/png": "[encoded data removed]"
          },
          "metadata": {
            "needs_background": "light"
          }
        }
      ]
    },
    {
      "cell_type": "code",
      "execution_count": null,
      "metadata": {
        "id": "PCrS-8dH4397"
      },
      "outputs": [],
      "source": [
        "# KNN: Accuracy on test set: 0.903"
      ]
    },
    {
      "cell_type": "markdown",
      "metadata": {
        "id": "C9bcEIlxftRf"
      },
      "source": [
        "### 2. Logistic regression"
      ]
    },
    {
      "cell_type": "code",
      "execution_count": null,
      "metadata": {
        "colab": {
          "base_uri": "https://localhost:8080/"
        },
        "id": "h4j-3le8hB5T",
        "outputId": "312ae828-9dba-479b-e200-a9bd16549b8f"
      },
      "outputs": [
        {
          "output_type": "stream",
          "name": "stderr",
          "text": [
            "/usr/local/lib/python3.7/dist-packages/sklearn/linear_model/_logistic.py:818: ConvergenceWarning: lbfgs failed to converge (status=1):\n",
            "STOP: TOTAL NO. of ITERATIONS REACHED LIMIT.\n",
            "\n",
            "Increase the number of iterations (max_iter) or scale the data as shown in:\n",
            "    https://scikit-learn.org/stable/modules/preprocessing.html\n",
            "Please also refer to the documentation for alternative solver options:\n",
            "    https://scikit-learn.org/stable/modules/linear_model.html#logistic-regression\n",
            "  extra_warning_msg=_LOGISTIC_SOLVER_CONVERGENCE_MSG,\n",
            "/usr/local/lib/python3.7/dist-packages/sklearn/linear_model/_logistic.py:818: ConvergenceWarning: lbfgs failed to converge (status=1):\n",
            "STOP: TOTAL NO. of ITERATIONS REACHED LIMIT.\n",
            "\n",
            "Increase the number of iterations (max_iter) or scale the data as shown in:\n",
            "    https://scikit-learn.org/stable/modules/preprocessing.html\n",
            "Please also refer to the documentation for alternative solver options:\n",
            "    https://scikit-learn.org/stable/modules/linear_model.html#logistic-regression\n",
            "  extra_warning_msg=_LOGISTIC_SOLVER_CONVERGENCE_MSG,\n",
            "/usr/local/lib/python3.7/dist-packages/sklearn/linear_model/_logistic.py:818: ConvergenceWarning: lbfgs failed to converge (status=1):\n",
            "STOP: TOTAL NO. of ITERATIONS REACHED LIMIT.\n",
            "\n",
            "Increase the number of iterations (max_iter) or scale the data as shown in:\n",
            "    https://scikit-learn.org/stable/modules/preprocessing.html\n",
            "Please also refer to the documentation for alternative solver options:\n",
            "    https://scikit-learn.org/stable/modules/linear_model.html#logistic-regression\n",
            "  extra_warning_msg=_LOGISTIC_SOLVER_CONVERGENCE_MSG,\n",
            "/usr/local/lib/python3.7/dist-packages/sklearn/linear_model/_logistic.py:818: ConvergenceWarning: lbfgs failed to converge (status=1):\n",
            "STOP: TOTAL NO. of ITERATIONS REACHED LIMIT.\n",
            "\n",
            "Increase the number of iterations (max_iter) or scale the data as shown in:\n",
            "    https://scikit-learn.org/stable/modules/preprocessing.html\n",
            "Please also refer to the documentation for alternative solver options:\n",
            "    https://scikit-learn.org/stable/modules/linear_model.html#logistic-regression\n",
            "  extra_warning_msg=_LOGISTIC_SOLVER_CONVERGENCE_MSG,\n",
            "/usr/local/lib/python3.7/dist-packages/sklearn/linear_model/_logistic.py:818: ConvergenceWarning: lbfgs failed to converge (status=1):\n",
            "STOP: TOTAL NO. of ITERATIONS REACHED LIMIT.\n",
            "\n",
            "Increase the number of iterations (max_iter) or scale the data as shown in:\n",
            "    https://scikit-learn.org/stable/modules/preprocessing.html\n",
            "Please also refer to the documentation for alternative solver options:\n",
            "    https://scikit-learn.org/stable/modules/linear_model.html#logistic-regression\n",
            "  extra_warning_msg=_LOGISTIC_SOLVER_CONVERGENCE_MSG,\n",
            "/usr/local/lib/python3.7/dist-packages/sklearn/linear_model/_logistic.py:818: ConvergenceWarning: lbfgs failed to converge (status=1):\n",
            "STOP: TOTAL NO. of ITERATIONS REACHED LIMIT.\n",
            "\n",
            "Increase the number of iterations (max_iter) or scale the data as shown in:\n",
            "    https://scikit-learn.org/stable/modules/preprocessing.html\n",
            "Please also refer to the documentation for alternative solver options:\n",
            "    https://scikit-learn.org/stable/modules/linear_model.html#logistic-regression\n",
            "  extra_warning_msg=_LOGISTIC_SOLVER_CONVERGENCE_MSG,\n",
            "/usr/local/lib/python3.7/dist-packages/sklearn/linear_model/_logistic.py:818: ConvergenceWarning: lbfgs failed to converge (status=1):\n",
            "STOP: TOTAL NO. of ITERATIONS REACHED LIMIT.\n",
            "\n",
            "Increase the number of iterations (max_iter) or scale the data as shown in:\n",
            "    https://scikit-learn.org/stable/modules/preprocessing.html\n",
            "Please also refer to the documentation for alternative solver options:\n",
            "    https://scikit-learn.org/stable/modules/linear_model.html#logistic-regression\n",
            "  extra_warning_msg=_LOGISTIC_SOLVER_CONVERGENCE_MSG,\n",
            "/usr/local/lib/python3.7/dist-packages/sklearn/linear_model/_logistic.py:818: ConvergenceWarning: lbfgs failed to converge (status=1):\n",
            "STOP: TOTAL NO. of ITERATIONS REACHED LIMIT.\n",
            "\n",
            "Increase the number of iterations (max_iter) or scale the data as shown in:\n",
            "    https://scikit-learn.org/stable/modules/preprocessing.html\n",
            "Please also refer to the documentation for alternative solver options:\n",
            "    https://scikit-learn.org/stable/modules/linear_model.html#logistic-regression\n",
            "  extra_warning_msg=_LOGISTIC_SOLVER_CONVERGENCE_MSG,\n",
            "/usr/local/lib/python3.7/dist-packages/sklearn/linear_model/_logistic.py:818: ConvergenceWarning: lbfgs failed to converge (status=1):\n",
            "STOP: TOTAL NO. of ITERATIONS REACHED LIMIT.\n",
            "\n",
            "Increase the number of iterations (max_iter) or scale the data as shown in:\n",
            "    https://scikit-learn.org/stable/modules/preprocessing.html\n",
            "Please also refer to the documentation for alternative solver options:\n",
            "    https://scikit-learn.org/stable/modules/linear_model.html#logistic-regression\n",
            "  extra_warning_msg=_LOGISTIC_SOLVER_CONVERGENCE_MSG,\n",
            "/usr/local/lib/python3.7/dist-packages/sklearn/linear_model/_logistic.py:818: ConvergenceWarning: lbfgs failed to converge (status=1):\n",
            "STOP: TOTAL NO. of ITERATIONS REACHED LIMIT.\n",
            "\n",
            "Increase the number of iterations (max_iter) or scale the data as shown in:\n",
            "    https://scikit-learn.org/stable/modules/preprocessing.html\n",
            "Please also refer to the documentation for alternative solver options:\n",
            "    https://scikit-learn.org/stable/modules/linear_model.html#logistic-regression\n",
            "  extra_warning_msg=_LOGISTIC_SOLVER_CONVERGENCE_MSG,\n",
            "/usr/local/lib/python3.7/dist-packages/sklearn/linear_model/_logistic.py:818: ConvergenceWarning: lbfgs failed to converge (status=1):\n",
            "STOP: TOTAL NO. of ITERATIONS REACHED LIMIT.\n",
            "\n",
            "Increase the number of iterations (max_iter) or scale the data as shown in:\n",
            "    https://scikit-learn.org/stable/modules/preprocessing.html\n",
            "Please also refer to the documentation for alternative solver options:\n",
            "    https://scikit-learn.org/stable/modules/linear_model.html#logistic-regression\n",
            "  extra_warning_msg=_LOGISTIC_SOLVER_CONVERGENCE_MSG,\n",
            "/usr/local/lib/python3.7/dist-packages/sklearn/linear_model/_logistic.py:818: ConvergenceWarning: lbfgs failed to converge (status=1):\n",
            "STOP: TOTAL NO. of ITERATIONS REACHED LIMIT.\n",
            "\n",
            "Increase the number of iterations (max_iter) or scale the data as shown in:\n",
            "    https://scikit-learn.org/stable/modules/preprocessing.html\n",
            "Please also refer to the documentation for alternative solver options:\n",
            "    https://scikit-learn.org/stable/modules/linear_model.html#logistic-regression\n",
            "  extra_warning_msg=_LOGISTIC_SOLVER_CONVERGENCE_MSG,\n",
            "/usr/local/lib/python3.7/dist-packages/sklearn/linear_model/_logistic.py:818: ConvergenceWarning: lbfgs failed to converge (status=1):\n",
            "STOP: TOTAL NO. of ITERATIONS REACHED LIMIT.\n",
            "\n",
            "Increase the number of iterations (max_iter) or scale the data as shown in:\n",
            "    https://scikit-learn.org/stable/modules/preprocessing.html\n",
            "Please also refer to the documentation for alternative solver options:\n",
            "    https://scikit-learn.org/stable/modules/linear_model.html#logistic-regression\n",
            "  extra_warning_msg=_LOGISTIC_SOLVER_CONVERGENCE_MSG,\n",
            "/usr/local/lib/python3.7/dist-packages/sklearn/linear_model/_logistic.py:818: ConvergenceWarning: lbfgs failed to converge (status=1):\n",
            "STOP: TOTAL NO. of ITERATIONS REACHED LIMIT.\n",
            "\n",
            "Increase the number of iterations (max_iter) or scale the data as shown in:\n",
            "    https://scikit-learn.org/stable/modules/preprocessing.html\n",
            "Please also refer to the documentation for alternative solver options:\n",
            "    https://scikit-learn.org/stable/modules/linear_model.html#logistic-regression\n",
            "  extra_warning_msg=_LOGISTIC_SOLVER_CONVERGENCE_MSG,\n",
            "/usr/local/lib/python3.7/dist-packages/sklearn/linear_model/_logistic.py:818: ConvergenceWarning: lbfgs failed to converge (status=1):\n",
            "STOP: TOTAL NO. of ITERATIONS REACHED LIMIT.\n",
            "\n",
            "Increase the number of iterations (max_iter) or scale the data as shown in:\n",
            "    https://scikit-learn.org/stable/modules/preprocessing.html\n",
            "Please also refer to the documentation for alternative solver options:\n",
            "    https://scikit-learn.org/stable/modules/linear_model.html#logistic-regression\n",
            "  extra_warning_msg=_LOGISTIC_SOLVER_CONVERGENCE_MSG,\n",
            "/usr/local/lib/python3.7/dist-packages/sklearn/linear_model/_logistic.py:818: ConvergenceWarning: lbfgs failed to converge (status=1):\n",
            "STOP: TOTAL NO. of ITERATIONS REACHED LIMIT.\n",
            "\n",
            "Increase the number of iterations (max_iter) or scale the data as shown in:\n",
            "    https://scikit-learn.org/stable/modules/preprocessing.html\n",
            "Please also refer to the documentation for alternative solver options:\n",
            "    https://scikit-learn.org/stable/modules/linear_model.html#logistic-regression\n",
            "  extra_warning_msg=_LOGISTIC_SOLVER_CONVERGENCE_MSG,\n",
            "/usr/local/lib/python3.7/dist-packages/sklearn/linear_model/_logistic.py:818: ConvergenceWarning: lbfgs failed to converge (status=1):\n",
            "STOP: TOTAL NO. of ITERATIONS REACHED LIMIT.\n",
            "\n",
            "Increase the number of iterations (max_iter) or scale the data as shown in:\n",
            "    https://scikit-learn.org/stable/modules/preprocessing.html\n",
            "Please also refer to the documentation for alternative solver options:\n",
            "    https://scikit-learn.org/stable/modules/linear_model.html#logistic-regression\n",
            "  extra_warning_msg=_LOGISTIC_SOLVER_CONVERGENCE_MSG,\n",
            "/usr/local/lib/python3.7/dist-packages/sklearn/linear_model/_logistic.py:818: ConvergenceWarning: lbfgs failed to converge (status=1):\n",
            "STOP: TOTAL NO. of ITERATIONS REACHED LIMIT.\n",
            "\n",
            "Increase the number of iterations (max_iter) or scale the data as shown in:\n",
            "    https://scikit-learn.org/stable/modules/preprocessing.html\n",
            "Please also refer to the documentation for alternative solver options:\n",
            "    https://scikit-learn.org/stable/modules/linear_model.html#logistic-regression\n",
            "  extra_warning_msg=_LOGISTIC_SOLVER_CONVERGENCE_MSG,\n",
            "/usr/local/lib/python3.7/dist-packages/sklearn/linear_model/_logistic.py:818: ConvergenceWarning: lbfgs failed to converge (status=1):\n",
            "STOP: TOTAL NO. of ITERATIONS REACHED LIMIT.\n",
            "\n",
            "Increase the number of iterations (max_iter) or scale the data as shown in:\n",
            "    https://scikit-learn.org/stable/modules/preprocessing.html\n",
            "Please also refer to the documentation for alternative solver options:\n",
            "    https://scikit-learn.org/stable/modules/linear_model.html#logistic-regression\n",
            "  extra_warning_msg=_LOGISTIC_SOLVER_CONVERGENCE_MSG,\n",
            "/usr/local/lib/python3.7/dist-packages/sklearn/linear_model/_logistic.py:818: ConvergenceWarning: lbfgs failed to converge (status=1):\n",
            "STOP: TOTAL NO. of ITERATIONS REACHED LIMIT.\n",
            "\n",
            "Increase the number of iterations (max_iter) or scale the data as shown in:\n",
            "    https://scikit-learn.org/stable/modules/preprocessing.html\n",
            "Please also refer to the documentation for alternative solver options:\n",
            "    https://scikit-learn.org/stable/modules/linear_model.html#logistic-regression\n",
            "  extra_warning_msg=_LOGISTIC_SOLVER_CONVERGENCE_MSG,\n"
          ]
        },
        {
          "output_type": "stream",
          "name": "stdout",
          "text": [
            "Best parameters: {'C': 0.1}\n",
            "Best cross-validation score: 0.90\n",
            "Best estimator:\n",
            "LogisticRegression(C=0.1)\n"
          ]
        },
        {
          "output_type": "stream",
          "name": "stderr",
          "text": [
            "/usr/local/lib/python3.7/dist-packages/sklearn/linear_model/_logistic.py:818: ConvergenceWarning: lbfgs failed to converge (status=1):\n",
            "STOP: TOTAL NO. of ITERATIONS REACHED LIMIT.\n",
            "\n",
            "Increase the number of iterations (max_iter) or scale the data as shown in:\n",
            "    https://scikit-learn.org/stable/modules/preprocessing.html\n",
            "Please also refer to the documentation for alternative solver options:\n",
            "    https://scikit-learn.org/stable/modules/linear_model.html#logistic-regression\n",
            "  extra_warning_msg=_LOGISTIC_SOLVER_CONVERGENCE_MSG,\n"
          ]
        }
      ],
      "source": [
        "# para tune LogisticRegression\n",
        "from sklearn.linear_model import LogisticRegression\n",
        "\n",
        "param_grid = { 'C': [ 0.1, 1, 10, 100] }\n",
        "\n",
        "grid_search_logreg = GridSearchCV(LogisticRegression(), param_grid, cv=5,return_train_score=True)\n",
        "\n",
        "grid_search_logreg.fit(data_train_feature_norm_pca, data_train_label)\n",
        "\n",
        "print(\"Best parameters: {}\".format(grid_search_logreg.best_params_))\n",
        "print(\"Best cross-validation score: {:.2f}\".format(grid_search_logreg.best_score_))\n",
        "print(\"Best estimator:\\n{}\".format(grid_search_logreg.best_estimator_))"
      ]
    },
    {
      "cell_type": "code",
      "execution_count": null,
      "metadata": {
        "colab": {
          "base_uri": "https://localhost:8080/"
        },
        "id": "6LtkqlrK9IJ3",
        "outputId": "ec0e100f-b7c0-4f21-89c7-3b221b43565a"
      },
      "outputs": [
        {
          "output_type": "stream",
          "name": "stdout",
          "text": [
            "Running time: 16.151583194732666 Seconds\n"
          ]
        },
        {
          "output_type": "stream",
          "name": "stderr",
          "text": [
            "/usr/local/lib/python3.7/dist-packages/sklearn/linear_model/_logistic.py:818: ConvergenceWarning: lbfgs failed to converge (status=1):\n",
            "STOP: TOTAL NO. of ITERATIONS REACHED LIMIT.\n",
            "\n",
            "Increase the number of iterations (max_iter) or scale the data as shown in:\n",
            "    https://scikit-learn.org/stable/modules/preprocessing.html\n",
            "Please also refer to the documentation for alternative solver options:\n",
            "    https://scikit-learn.org/stable/modules/linear_model.html#logistic-regression\n",
            "  extra_warning_msg=_LOGISTIC_SOLVER_CONVERGENCE_MSG,\n"
          ]
        }
      ],
      "source": [
        "from sklearn.linear_model import LogisticRegression\n",
        "import time\n",
        "\n",
        "# the best parameter for LogisticRegression\n",
        "start=time.time()\n",
        "best__logreg = LogisticRegression(C = 0.1)\n",
        "best__logreg.fit(data_train_feature_norm_pca, data_train_label)\n",
        "test_pred_best__logreg = best__logreg.predict(data_test_feature_norm_pca)\n",
        "end=time.time()\n",
        "print('Running time: %s Seconds'%(end-start))"
      ]
    },
    {
      "cell_type": "code",
      "source": [
        "# Accuracy visualization for LogisticRegression\n",
        "print(\"Accuracy on training set: {:.3f}\".format(best__logreg.score(data_train_feature_norm_pca, data_train_label)))\n",
        "category_show(best__logreg, data_train_feature_norm_pca, data_train_label)"
      ],
      "metadata": {
        "colab": {
          "base_uri": "https://localhost:8080/",
          "height": 591
        },
        "id": "aWg9OjfNqFoU",
        "outputId": "f985706d-a5fc-43c6-bdea-1eb55a59e7b0"
      },
      "execution_count": null,
      "outputs": [
        {
          "output_type": "stream",
          "name": "stdout",
          "text": [
            "Accuracy on training set: 0.920\n",
            "              precision    recall  f1-score   support\n",
            "\n",
            " T-shirt/Top       0.89      0.88      0.88      2972\n",
            "     Trouser       0.99      0.98      0.99      3026\n",
            "    Pullover       0.87      0.87      0.87      3036\n",
            "       Dress       0.90      0.93      0.92      3028\n",
            "        Coat       0.85      0.86      0.85      2985\n",
            "      Sandal       0.99      0.98      0.98      2967\n",
            "       Shirt       0.79      0.76      0.77      3001\n",
            "     Sneaker       0.96      0.97      0.97      3023\n",
            "         Bag       0.99      0.99      0.99      3007\n",
            "  Ankle boot       0.98      0.97      0.98      2955\n",
            "\n",
            "    accuracy                           0.92     30000\n",
            "   macro avg       0.92      0.92      0.92     30000\n",
            "weighted avg       0.92      0.92      0.92     30000\n",
            "\n"
          ]
        },
        {
          "output_type": "display_data",
          "data": {
            "text/plain": [
              "<Figure size 432x288 with 2 Axes>"
            ],
            "image/png": "[encoded data removed]"
          },
          "metadata": {
            "needs_background": "light"
          }
        }
      ]
    },
    {
      "cell_type": "code",
      "source": [
        "# Logistic Regression: Accuracy on test set: 0.768"
      ],
      "metadata": {
        "id": "tBndXOCbdoZu"
      },
      "execution_count": null,
      "outputs": []
    },
    {
      "cell_type": "markdown",
      "metadata": {
        "id": "Ni19R6bqhoed"
      },
      "source": [
        "### 3. Naïve Bayes"
      ]
    },
    {
      "cell_type": "code",
      "execution_count": null,
      "metadata": {
        "colab": {
          "base_uri": "https://localhost:8080/"
        },
        "id": "Fy9qJ0h0hrDm",
        "outputId": "4b34da4a-0bd2-430b-cd84-162a2d699a45"
      },
      "outputs": [
        {
          "output_type": "stream",
          "name": "stdout",
          "text": [
            "Cross-validation scores: [0.78733333 0.787      0.78       0.77016667 0.7705    ]\n",
            "Average cross-validation score: 0.78\n"
          ]
        }
      ],
      "source": [
        "\n",
        "from sklearn.naive_bayes import GaussianNB\n",
        "nb = GaussianNB()\n",
        "\n",
        "from sklearn.model_selection import cross_val_score\n",
        "scores = cross_val_score(nb, data_train_feature_norm_pca, data_train_label, cv=5)\n",
        "print(\"Cross-validation scores: {}\".format(scores)) #accuracy for each fold\n",
        "print(\"Average cross-validation score: {:.2f}\".format(scores.mean())) #average accuracy over all folds"
      ]
    },
    {
      "cell_type": "code",
      "source": [
        "from sklearn.naive_bayes import GaussianNB\n",
        "import time\n",
        "\n",
        "\n",
        "start=time.time()\n",
        "nb = GaussianNB()\n",
        "nb.fit(data_train_feature_norm_pca, data_train_label)\n",
        "test_pred_nb = nb.predict(data_test_feature_norm_pca)\n",
        "end=time.time()\n",
        "print('Running time: %s Seconds'%(end-start))"
      ],
      "metadata": {
        "colab": {
          "base_uri": "https://localhost:8080/"
        },
        "id": "-1_jV-ynd-ZG",
        "outputId": "971228fc-6769-4a17-9005-6be18f74ddc0"
      },
      "execution_count": null,
      "outputs": [
        {
          "output_type": "stream",
          "name": "stdout",
          "text": [
            "Running time: 0.35889220237731934 Seconds\n"
          ]
        }
      ]
    },
    {
      "cell_type": "code",
      "source": [
        "# Accuracy visualization for Naive Bayes\n",
        "print(\"Accuracy on training set: {:.3f}\".format(nb.score(data_train_feature_norm_pca, data_train_label)))\n",
        "category_show(nb, data_train_feature_norm_pca, data_train_label)"
      ],
      "metadata": {
        "colab": {
          "base_uri": "https://localhost:8080/",
          "height": 591
        },
        "id": "DtPOdpQpd2y1",
        "outputId": "e3ab04d2-846e-4c07-a486-650ffc641215"
      },
      "execution_count": null,
      "outputs": [
        {
          "output_type": "stream",
          "name": "stdout",
          "text": [
            "Accuracy on training set: 0.787\n",
            "              precision    recall  f1-score   support\n",
            "\n",
            " T-shirt/Top       0.82      0.76      0.79      2972\n",
            "     Trouser       0.95      0.85      0.90      3026\n",
            "    Pullover       0.74      0.73      0.74      3036\n",
            "       Dress       0.73      0.79      0.76      3028\n",
            "        Coat       0.75      0.74      0.75      2985\n",
            "      Sandal       0.91      0.82      0.86      2967\n",
            "       Shirt       0.61      0.46      0.53      3001\n",
            "     Sneaker       0.84      0.86      0.85      3023\n",
            "         Bag       0.65      0.96      0.77      3007\n",
            "  Ankle boot       0.93      0.90      0.91      2955\n",
            "\n",
            "    accuracy                           0.79     30000\n",
            "   macro avg       0.79      0.79      0.79     30000\n",
            "weighted avg       0.79      0.79      0.79     30000\n",
            "\n"
          ]
        },
        {
          "output_type": "display_data",
          "data": {
            "text/plain": [
              "<Figure size 432x288 with 2 Axes>"
            ],
            "image/png": "[encoded data removed]"
          },
          "metadata": {
            "needs_background": "light"
          }
        }
      ]
    },
    {
      "cell_type": "code",
      "source": [
        "# Logistic Regression: Accuracy on test set: 0.768"
      ],
      "metadata": {
        "id": "hwVku3JnfGf1"
      },
      "execution_count": null,
      "outputs": []
    },
    {
      "cell_type": "markdown",
      "metadata": {
        "id": "w1IxCrhGlLZE"
      },
      "source": [
        "### 4. Decision Tree"
      ]
    },
    {
      "cell_type": "code",
      "execution_count": null,
      "metadata": {
        "colab": {
          "base_uri": "https://localhost:8080/"
        },
        "id": "THfM2RgUlPYF",
        "outputId": "05742474-e4e3-4b1b-9371-5852b90896fd"
      },
      "outputs": [
        {
          "output_type": "stream",
          "name": "stdout",
          "text": [
            "Best parameters: {'criterion': 'entropy', 'max_depth': 10}\n",
            "Best cross-validation score: 0.80\n",
            "Best estimator:\n",
            "DecisionTreeClassifier(criterion='entropy', max_depth=10)\n"
          ]
        }
      ],
      "source": [
        "# Para tune Decision Tree\n",
        "from sklearn.tree import DecisionTreeClassifier\n",
        "from sklearn.model_selection import GridSearchCV\n",
        "\n",
        "param_grid = {'criterion':['gini','entropy'],'max_depth':[5,10,15]}\n",
        "grid_search_DT = GridSearchCV(DecisionTreeClassifier(), param_grid,cv=5, return_train_score=True) \n",
        "grid_search_DT.fit(data_train_feature_norm_pca, data_train_label)\n",
        "\n",
        "print(\"Best parameters: {}\".format(grid_search_DT.best_params_))\n",
        "print(\"Best cross-validation score: {:.2f}\".format(grid_search_DT.best_score_))\n",
        "print(\"Best estimator:\\n{}\".format(grid_search_DT.best_estimator_))"
      ]
    },
    {
      "cell_type": "code",
      "execution_count": null,
      "metadata": {
        "colab": {
          "base_uri": "https://localhost:8080/"
        },
        "id": "O1898L8Pts6_",
        "outputId": "d7099de8-9fde-4249-fa80-ce920760f5d1"
      },
      "outputs": [
        {
          "output_type": "stream",
          "name": "stdout",
          "text": [
            "Running time: 67.92997550964355 Seconds\n"
          ]
        }
      ],
      "source": [
        "# the best parameter for Decision tree\n",
        "from sklearn.tree import DecisionTreeClassifier\n",
        "\n",
        "import time\n",
        "start=time.time()\n",
        "best__DT = DecisionTreeClassifier(criterion='entropy',max_depth=10)\n",
        "best__DT.fit(data_train_feature_norm_pca, data_train_label)\n",
        "test_pred_best__DT = best__logreg.predict(data_test_feature_norm_pca)\n",
        "\n",
        "end=time.time()\n",
        "print('Running time: %s Seconds'%(end-start))\n"
      ]
    },
    {
      "cell_type": "code",
      "source": [
        "# Accuracy visualization for Decision tree\n",
        "print(\"Accuracy on training set: {:.3f}\".format(best__DT.score(data_train_feature_norm_pca, data_train_label)))\n",
        "category_show(best__DT, data_train_feature_norm_pca, data_train_label)"
      ],
      "metadata": {
        "colab": {
          "base_uri": "https://localhost:8080/",
          "height": 591
        },
        "id": "HcUYlmC606sl",
        "outputId": "4436e1ec-7f82-4f86-e0e7-28baeded65d2"
      },
      "execution_count": null,
      "outputs": [
        {
          "output_type": "stream",
          "name": "stdout",
          "text": [
            "Accuracy on training set: 0.883\n",
            "              precision    recall  f1-score   support\n",
            "\n",
            " T-shirt/Top       0.86      0.86      0.86      2972\n",
            "     Trouser       0.98      0.99      0.98      3026\n",
            "    Pullover       0.79      0.79      0.79      3036\n",
            "       Dress       0.89      0.89      0.89      3028\n",
            "        Coat       0.78      0.78      0.78      2985\n",
            "      Sandal       0.96      0.97      0.97      2967\n",
            "       Shirt       0.68      0.69      0.68      3001\n",
            "     Sneaker       0.93      0.95      0.94      3023\n",
            "         Bag       0.99      0.97      0.98      3007\n",
            "  Ankle boot       0.98      0.95      0.96      2955\n",
            "\n",
            "    accuracy                           0.88     30000\n",
            "   macro avg       0.88      0.88      0.88     30000\n",
            "weighted avg       0.88      0.88      0.88     30000\n",
            "\n"
          ]
        },
        {
          "output_type": "display_data",
          "data": {
            "text/plain": [
              "<Figure size 432x288 with 2 Axes>"
            ],
            "image/png": "[encoded data removed]"
          },
          "metadata": {
            "needs_background": "light"
          }
        }
      ]
    },
    {
      "cell_type": "code",
      "source": [
        "# Decision tree: Accuracy on test set: 0.8965"
      ],
      "metadata": {
        "id": "fS85-Q62hZe7"
      },
      "execution_count": null,
      "outputs": []
    },
    {
      "cell_type": "markdown",
      "metadata": {
        "id": "uUVEfBGjRXYh"
      },
      "source": [
        "### 5. SVM"
      ]
    },
    {
      "cell_type": "code",
      "execution_count": null,
      "metadata": {
        "id": "f-VSKTyyRZbA",
        "colab": {
          "base_uri": "https://localhost:8080/"
        },
        "outputId": "39496cb4-b222-438d-e8db-5ed4dcb35a88"
      },
      "outputs": [
        {
          "output_type": "stream",
          "name": "stdout",
          "text": [
            "Best parameters: {'C': 10, 'gamma': 0.01}\n",
            "Best cross-validation score: 0.91\n",
            "Best estimator:\n",
            "SVC(C=10, gamma=0.01)\n"
          ]
        }
      ],
      "source": [
        "from sklearn.model_selection import GridSearchCV\n",
        "from sklearn.svm import SVC\n",
        "\n",
        "param_grid = [{'C':[0.1,1,10],'gamma': [0.01,0.1]}]\n",
        "grid_search_SVM = GridSearchCV(SVC(), param_grid,cv=5,n_jobs= -1,return_train_score=True) \n",
        "grid_search_SVM.fit(data_train_feature_norm_pca, data_train_label)\n",
        "\n",
        "print(\"Best parameters: {}\".format(grid_search_SVM.best_params_))\n",
        "print(\"Best cross-validation score: {:.2f}\".format(grid_search_SVM.best_score_))\n",
        "print(\"Best estimator:\\n{}\".format(grid_search_SVM.best_estimator_))\n"
      ]
    },
    {
      "cell_type": "code",
      "execution_count": 35,
      "metadata": {
        "colab": {
          "base_uri": "https://localhost:8080/"
        },
        "id": "3EaHmMhT_bc8",
        "outputId": "b32ddd64-00d7-4b3b-9889-cb4c4ee246dd"
      },
      "outputs": [
        {
          "output_type": "stream",
          "name": "stdout",
          "text": [
            "Running time: 62.969969511032104 Seconds\n"
          ]
        }
      ],
      "source": [
        "# the best parameter for SVM\n",
        "from sklearn.svm import SVC\n",
        "import time\n",
        "\n",
        "start=time.time()\n",
        "best__SVM = SVC(C=10, gamma=0.01)\n",
        "best__SVM.fit(data_train_feature_norm_pca, data_train_label)\n",
        "test_pred_best__SVM = best__SVM.predict(data_test_feature_norm_pca)\n",
        "\n",
        "end=time.time()\n",
        "print('Running time: %s Seconds'%(end-start))"
      ]
    },
    {
      "cell_type": "code",
      "source": [
        "# Accuracy visualization for SVM\n",
        "print(\"Accuracy on training set: {:.3f}\".format(best__SVM.score(data_train_feature_norm_pca, data_train_label)))\n",
        "category_show(best__SVM, data_train_feature_norm_pca, data_train_label)"
      ],
      "metadata": {
        "colab": {
          "base_uri": "https://localhost:8080/",
          "height": 594
        },
        "id": "GSsUuoZnCKZg",
        "outputId": "6fb66096-9cd3-4759-a746-572dbecffe8d"
      },
      "execution_count": null,
      "outputs": [
        {
          "output_type": "stream",
          "name": "stdout",
          "text": [
            "Accuracy on training set: 0.994\n",
            "              precision    recall  f1-score   support\n",
            "\n",
            " T-shirt/Top       0.99      0.99      0.99      2972\n",
            "     Trouser       1.00      1.00      1.00      3026\n",
            "    Pullover       0.98      0.99      0.99      3036\n",
            "       Dress       0.99      1.00      1.00      3028\n",
            "        Coat       0.98      0.99      0.99      2985\n",
            "      Sandal       1.00      1.00      1.00      2967\n",
            "       Shirt       0.99      0.98      0.98      3001\n",
            "     Sneaker       0.99      1.00      1.00      3023\n",
            "         Bag       1.00      1.00      1.00      3007\n",
            "  Ankle boot       1.00      1.00      1.00      2955\n",
            "\n",
            "    accuracy                           0.99     30000\n",
            "   macro avg       0.99      0.99      0.99     30000\n",
            "weighted avg       0.99      0.99      0.99     30000\n",
            "\n"
          ]
        },
        {
          "output_type": "display_data",
          "data": {
            "text/plain": [
              "<Figure size 432x288 with 2 Axes>"
            ],
            "image/png": "[encoded data removed]"
          },
          "metadata": {
            "needs_background": "light"
          }
        }
      ]
    },
    {
      "cell_type": "code",
      "source": [
        "# SVM: Accuracy on test set: 0.9275"
      ],
      "metadata": {
        "id": "lFLU5tlGioOy"
      },
      "execution_count": null,
      "outputs": []
    },
    {
      "cell_type": "markdown",
      "metadata": {
        "id": "o85bWONQajtH"
      },
      "source": [
        "### 6. Bagging"
      ]
    },
    {
      "cell_type": "code",
      "execution_count": null,
      "metadata": {
        "colab": {
          "base_uri": "https://localhost:8080/"
        },
        "id": "0jp7L9oNanRp",
        "outputId": "9c32d1ca-f564-4513-bee4-d80520e7791b"
      },
      "outputs": [
        {
          "output_type": "stream",
          "name": "stdout",
          "text": [
            "Best parameters: {'max_samples': 500, 'n_estimators': 500}\n",
            "Best cross-validation score: 0.80\n",
            "Best estimator:\n",
            "BaggingClassifier(max_samples=500, n_estimators=500)\n"
          ]
        }
      ],
      "source": [
        "# Para tune Bagging\n",
        "from sklearn.ensemble import BaggingClassifier\n",
        "from sklearn.tree import DecisionTreeClassifier\n",
        "from sklearn.model_selection import GridSearchCV\n",
        "\n",
        "param_grid = {'n_estimators':[200,300,500],'max_samples':[100,300,500]}\n",
        "grid_search_Bagging = GridSearchCV(BaggingClassifier(), param_grid,cv=5, n_jobs= -1, return_train_score=True) \n",
        "grid_search_Bagging.fit(data_train_feature_norm_pca, data_train_label)\n",
        "\n",
        "print(\"Best parameters: {}\".format(grid_search_Bagging.best_params_))\n",
        "print(\"Best cross-validation score: {:.2f}\".format(grid_search_Bagging.best_score_))\n",
        "print(\"Best estimator:\\n{}\".format(grid_search_Bagging.best_estimator_))"
      ]
    },
    {
      "cell_type": "code",
      "execution_count": null,
      "metadata": {
        "id": "w_wIStifwc_b",
        "colab": {
          "base_uri": "https://localhost:8080/"
        },
        "outputId": "b230885c-2af5-43de-acb1-d171d93dfb35"
      },
      "outputs": [
        {
          "output_type": "stream",
          "name": "stdout",
          "text": [
            "Running time: 174.4462308883667 Seconds\n"
          ]
        }
      ],
      "source": [
        "# the best parameter for Bagging\n",
        "from sklearn.ensemble import BaggingClassifier\n",
        "from sklearn.tree import DecisionTreeClassifier\n",
        "import time\n",
        "\n",
        "start=time.time()\n",
        "best__Bagging = BaggingClassifier(n_estimators= 500,max_samples= 500)\n",
        "best__Bagging.fit(data_train_feature_norm_pca, data_train_label)\n",
        "test_pred_best__Bagging = best__Bagging.predict(data_test_feature_norm_pca)\n",
        "\n",
        "end=time.time()\n",
        "print('Running time: %s Seconds'%(end-start))\n",
        "\n"
      ]
    },
    {
      "cell_type": "code",
      "source": [
        "# Accuracy visualization for Bagging\n",
        "print(\"Accuracy on training set: {:.3f}\".format(best__Bagging.score(data_train_feature_norm_pca, data_train_label)))\n",
        "category_show(best__Bagging, data_train_feature_norm_pca, data_train_label)"
      ],
      "metadata": {
        "id": "JyBHpnkpZwHj",
        "colab": {
          "base_uri": "https://localhost:8080/",
          "height": 591
        },
        "outputId": "4abe2c2e-89ed-4d63-cb5b-6aaaf0c5bdd6"
      },
      "execution_count": null,
      "outputs": [
        {
          "output_type": "stream",
          "name": "stdout",
          "text": [
            "Accuracy on training set: 0.811\n",
            "              precision    recall  f1-score   support\n",
            "\n",
            " T-shirt/Top       0.78      0.76      0.77      2972\n",
            "     Trouser       0.97      0.91      0.94      3026\n",
            "    Pullover       0.73      0.76      0.74      3036\n",
            "       Dress       0.70      0.82      0.76      3028\n",
            "        Coat       0.73      0.75      0.74      2985\n",
            "      Sandal       0.89      0.91      0.90      2967\n",
            "       Shirt       0.62      0.50      0.55      3001\n",
            "     Sneaker       0.87      0.90      0.88      3023\n",
            "         Bag       0.88      0.92      0.90      3007\n",
            "  Ankle boot       0.94      0.89      0.91      2955\n",
            "\n",
            "    accuracy                           0.81     30000\n",
            "   macro avg       0.81      0.81      0.81     30000\n",
            "weighted avg       0.81      0.81      0.81     30000\n",
            "\n"
          ]
        },
        {
          "output_type": "display_data",
          "data": {
            "text/plain": [
              "<Figure size 432x288 with 2 Axes>"
            ],
            "image/png": "[encoded data removed]"
          },
          "metadata": {
            "needs_background": "light"
          }
        }
      ]
    },
    {
      "cell_type": "code",
      "source": [
        "# Bagging: Accuracy on test set: 0.7975"
      ],
      "metadata": {
        "id": "zZAK5QLzHn9q"
      },
      "execution_count": null,
      "outputs": []
    },
    {
      "cell_type": "markdown",
      "metadata": {
        "id": "NGuUi4TSiiu_"
      },
      "source": [
        "### 7. Random forest"
      ]
    },
    {
      "cell_type": "code",
      "execution_count": null,
      "metadata": {
        "id": "qE8vdRwDrnkr",
        "colab": {
          "base_uri": "https://localhost:8080/"
        },
        "outputId": "89535e4a-e389-48a3-e5aa-b1d935caa906"
      },
      "outputs": [
        {
          "output_type": "stream",
          "name": "stdout",
          "text": [
            "Best parameters: {'max_features': 'log2', 'max_leaf_nodes': 30, 'n_estimators': 500}\n",
            "Best cross-validation score: 0.83\n",
            "Best estimator:\n",
            "RandomForestClassifier(max_features='log2', max_leaf_nodes=30, n_estimators=500)\n"
          ]
        }
      ],
      "source": [
        "# para tune regression random forest\n",
        "from sklearn.ensemble import RandomForestClassifier\n",
        "from sklearn.model_selection import GridSearchCV\n",
        "\n",
        "param_grid = {'n_estimators':[200,300,500],'max_leaf_nodes': [20,30],'max_features': ['auto', 'sqrt', 'log2']}\n",
        "grid_search_RndF = GridSearchCV(RandomForestClassifier(), param_grid,cv=5, return_train_score=True) \n",
        "grid_search_RndF.fit(data_train_feature_norm_pca, data_train_label)\n",
        "\n",
        "\n",
        "print(\"Best parameters: {}\".format(grid_search_RndF.best_params_))\n",
        "print(\"Best cross-validation score: {:.2f}\".format(grid_search_RndF.best_score_))\n",
        "print(\"Best estimator:\\n{}\".format(grid_search_RndF.best_estimator_))\n"
      ]
    },
    {
      "cell_type": "code",
      "execution_count": null,
      "metadata": {
        "colab": {
          "base_uri": "https://localhost:8080/"
        },
        "id": "HzvWQTINuF5o",
        "outputId": "a9d03fee-8abc-42da-c153-7876202001b1"
      },
      "outputs": [
        {
          "output_type": "stream",
          "name": "stdout",
          "text": [
            "Running time: 105.24877166748047 Seconds\n"
          ]
        }
      ],
      "source": [
        "\n",
        "# the best parameter for random forest\n",
        "from sklearn.ensemble import RandomForestClassifier\n",
        "import time\n",
        "\n",
        "start=time.time()\n",
        "\n",
        "best__RndF = RandomForestClassifier(n_estimators=500, max_leaf_nodes=30 ,max_features = 'log2')\n",
        "best__RndF.fit(data_train_feature_norm_pca, data_train_label)\n",
        "test_pred_best__RndF = best__RndF.predict(data_test_feature_norm_pca)\n",
        "\n",
        "end=time.time()\n",
        "print('Running time: %s Seconds'%(end-start))"
      ]
    },
    {
      "cell_type": "code",
      "source": [
        "# Accuracy visualization for random forest\n",
        "print(\"Accuracy on training set: {:.3f}\".format(best__RndF.score(data_train_feature_norm_pca, data_train_label)))\n",
        "category_show(best__RndF, data_train_feature_norm_pca, data_train_label)"
      ],
      "metadata": {
        "id": "poEzTjwG2gJB",
        "colab": {
          "base_uri": "https://localhost:8080/",
          "height": 591
        },
        "outputId": "ab148d56-e097-4471-8187-7e2723e9082e"
      },
      "execution_count": null,
      "outputs": [
        {
          "output_type": "stream",
          "name": "stdout",
          "text": [
            "Accuracy on training set: 0.840\n",
            "              precision    recall  f1-score   support\n",
            "\n",
            " T-shirt/Top       0.76      0.78      0.77      2972\n",
            "     Trouser       0.99      0.90      0.94      3026\n",
            "    Pullover       0.76      0.76      0.76      3036\n",
            "       Dress       0.73      0.89      0.80      3028\n",
            "        Coat       0.75      0.77      0.76      2985\n",
            "      Sandal       0.94      0.94      0.94      2967\n",
            "       Shirt       0.71      0.52      0.60      3001\n",
            "     Sneaker       0.92      0.94      0.93      3023\n",
            "         Bag       0.90      0.97      0.93      3007\n",
            "  Ankle boot       0.95      0.94      0.94      2955\n",
            "\n",
            "    accuracy                           0.84     30000\n",
            "   macro avg       0.84      0.84      0.84     30000\n",
            "weighted avg       0.84      0.84      0.84     30000\n",
            "\n"
          ]
        },
        {
          "output_type": "display_data",
          "data": {
            "text/plain": [
              "<Figure size 432x288 with 2 Axes>"
            ],
            "image/png": "[encoded data removed]"
          },
          "metadata": {
            "needs_background": "light"
          }
        }
      ]
    },
    {
      "cell_type": "code",
      "source": [
        "# Random forest: Accuracy on test set:0.829"
      ],
      "metadata": {
        "id": "GK67qQLinGvu"
      },
      "execution_count": null,
      "outputs": []
    },
    {
      "cell_type": "markdown",
      "source": [
        "## Step5: Classifier comparisons"
      ],
      "metadata": {
        "id": "5xYdW8G_aoIO"
      }
    },
    {
      "cell_type": "markdown",
      "source": [
        "### Code running time"
      ],
      "metadata": {
        "id": "w9owpP8Ja-_-"
      }
    },
    {
      "cell_type": "code",
      "source": [
        "import matplotlib.pyplot as plt\n",
        "# Compare the running time of all algorithms using their own best parameters\n",
        "\n",
        "all_algorithms = ['KNN', 'Logistic Regression', 'Naïve Bayes', 'Decision Tree', 'SVM','Bagging','Random Forest']\n",
        "running_time = [13.11,16.15,0.36,67.93,93.24,174.45,105.25]\n",
        "\n",
        "\n",
        "plt.bar(all_algorithms, running_time)\n",
        "plt.title('All algorithms running time comparison',fontsize=13)\n",
        "plt.ylabel('Running time(second)',fontsize=13)\n",
        "plt.xticks(rotation=45,fontsize=13)\n",
        "\n",
        "for a,b in zip(all_algorithms,running_time):\n",
        " plt.text(a,b,'%.2f'%b,ha='center',va='bottom',fontsize=11);\n",
        "#plt.savefig('running time',bbox_inches = 'tight')"
      ],
      "metadata": {
        "colab": {
          "base_uri": "https://localhost:8080/",
          "height": 369
        },
        "id": "UWVnU4x4attG",
        "outputId": "5dfe8e85-385d-4bd3-f33d-d9787ef1d1ea"
      },
      "execution_count": 30,
      "outputs": [
        {
          "output_type": "display_data",
          "data": {
            "text/plain": [
              "<Figure size 432x288 with 1 Axes>"
            ],
            "image/png": "[encoded data removed]"
          },
          "metadata": {
            "needs_background": "light"
          }
        }
      ]
    },
    {
      "cell_type": "markdown",
      "source": [
        "### Training Accuracy"
      ],
      "metadata": {
        "id": "_D2Dzx6kkw-e"
      }
    },
    {
      "cell_type": "code",
      "source": [
        "import matplotlib.pyplot as plt\n",
        "# Compare the Training Accuracy of all algorithms using their own best parameters\n",
        "\n",
        "all_algorithms = ['KNN', 'Logistic Regression', 'Naïve Bayes', 'Decision Tree', 'SVM','Bagging','Random Forest']\n",
        "Training_accuracy = [0.927,0.920,0.787,0.883,0.994,0.811,0.840]\n",
        "\n",
        "plt.bar(all_algorithms, Training_accuracy)\n",
        "plt.title('All algorithms training accuracy comparison',fontsize=13)\n",
        "plt.ylabel('Training Accuracy',fontsize=13)\n",
        "plt.xticks(rotation=45,fontsize=13)\n",
        "\n",
        "for a,b in zip(all_algorithms,Training_accuracy):\n",
        " plt.text(a,b,'%.2f'%b,ha='center',va='bottom',fontsize=11);"
      ],
      "metadata": {
        "id": "dqcBAWhsk3uG",
        "colab": {
          "base_uri": "https://localhost:8080/",
          "height": 369
        },
        "outputId": "6eb23525-cbc3-44a2-8ac0-40d4a9e426b3"
      },
      "execution_count": null,
      "outputs": [
        {
          "output_type": "display_data",
          "data": {
            "text/plain": [
              "<Figure size 432x288 with 1 Axes>"
            ],
            "image/png": "[encoded data removed]"
          },
          "metadata": {
            "needs_background": "light"
          }
        }
      ]
    },
    {
      "cell_type": "markdown",
      "source": [
        "###Test Accuracy"
      ],
      "metadata": {
        "id": "GAHXL5Qsm75F"
      }
    },
    {
      "cell_type": "code",
      "source": [
        "# test accuracy data is based on Kaggle\n",
        "import matplotlib.pyplot as plt\n",
        "# Compare the test Accuracy of all algorithms using their own best parameters\n",
        "\n",
        "all_algorithms = ['KNN', 'Logistic Regression', 'Naïve Bayes', 'Decision Tree', 'SVM','Bagging','Random Forest']\n",
        "test_accuracy = [0.903,0.768,0.768,0.8965,0.9275,0.7975,0.829]\n",
        "\n",
        "plt.bar(all_algorithms, test_accuracy)\n",
        "plt.title('All algorithms test accuracy comparison',fontsize=13)\n",
        "plt.ylabel('Test Accuracy',fontsize=13)\n",
        "plt.xticks(rotation=45,fontsize=13)\n",
        "\n",
        "for a,b in zip(all_algorithms,test_accuracy):\n",
        " plt.text(a,b,'%.2f'%b,ha='center',va='bottom',fontsize=11);\n",
        "#plt.savefig('test',bbox_inches = 'tight')"
      ],
      "metadata": {
        "colab": {
          "base_uri": "https://localhost:8080/",
          "height": 369
        },
        "id": "uS4C84aQnBxM",
        "outputId": "743a332f-cc4c-4289-c69e-1c8982a1b8db"
      },
      "execution_count": 27,
      "outputs": [
        {
          "output_type": "display_data",
          "data": {
            "text/plain": [
              "<Figure size 432x288 with 1 Axes>"
            ],
            "image/png": "[encoded data removed]"
          },
          "metadata": {
            "needs_background": "light"
          }
        }
      ]
    },
    {
      "cell_type": "markdown",
      "source": [
        "## Step6: Hardware and software specifications "
      ],
      "metadata": {
        "id": "NVxDnNSmDByB"
      }
    },
    {
      "cell_type": "code",
      "source": [
        "!cat /proc/cpuinfo"
      ],
      "metadata": {
        "colab": {
          "base_uri": "https://localhost:8080/"
        },
        "id": "ljjJjPXMC8cx",
        "outputId": "6896358c-3f1c-4064-ee0a-5986c1049b53"
      },
      "execution_count": null,
      "outputs": [
        {
          "output_type": "stream",
          "name": "stdout",
          "text": [
            "processor\t: 0\n",
            "vendor_id\t: GenuineIntel\n",
            "cpu family\t: 6\n",
            "model\t\t: 85\n",
            "model name\t: Intel(R) Xeon(R) CPU @ 2.00GHz\n",
            "stepping\t: 3\n",
            "microcode\t: 0x1\n",
            "cpu MHz\t\t: 2000.124\n",
            "cache size\t: 39424 KB\n",
            "physical id\t: 0\n",
            "siblings\t: 2\n",
            "core id\t\t: 0\n",
            "cpu cores\t: 1\n",
            "apicid\t\t: 0\n",
            "initial apicid\t: 0\n",
            "fpu\t\t: yes\n",
            "fpu_exception\t: yes\n",
            "cpuid level\t: 13\n",
            "wp\t\t: yes\n",
            "flags\t\t: fpu vme de pse tsc msr pae mce cx8 apic sep mtrr pge mca cmov pat pse36 clflush mmx fxsr sse sse2 ss ht syscall nx pdpe1gb rdtscp lm constant_tsc rep_good nopl xtopology nonstop_tsc cpuid tsc_known_freq pni pclmulqdq ssse3 fma cx16 pcid sse4_1 sse4_2 x2apic movbe popcnt aes xsave avx f16c rdrand hypervisor lahf_lm abm 3dnowprefetch invpcid_single ssbd ibrs ibpb stibp fsgsbase tsc_adjust bmi1 hle avx2 smep bmi2 erms invpcid rtm mpx avx512f avx512dq rdseed adx smap clflushopt clwb avx512cd avx512bw avx512vl xsaveopt xsavec xgetbv1 xsaves arat md_clear arch_capabilities\n",
            "bugs\t\t: cpu_meltdown spectre_v1 spectre_v2 spec_store_bypass l1tf mds swapgs taa\n",
            "bogomips\t: 4000.24\n",
            "clflush size\t: 64\n",
            "cache_alignment\t: 64\n",
            "address sizes\t: 46 bits physical, 48 bits virtual\n",
            "power management:\n",
            "\n",
            "processor\t: 1\n",
            "vendor_id\t: GenuineIntel\n",
            "cpu family\t: 6\n",
            "model\t\t: 85\n",
            "model name\t: Intel(R) Xeon(R) CPU @ 2.00GHz\n",
            "stepping\t: 3\n",
            "microcode\t: 0x1\n",
            "cpu MHz\t\t: 2000.124\n",
            "cache size\t: 39424 KB\n",
            "physical id\t: 0\n",
            "siblings\t: 2\n",
            "core id\t\t: 0\n",
            "cpu cores\t: 1\n",
            "apicid\t\t: 1\n",
            "initial apicid\t: 1\n",
            "fpu\t\t: yes\n",
            "fpu_exception\t: yes\n",
            "cpuid level\t: 13\n",
            "wp\t\t: yes\n",
            "flags\t\t: fpu vme de pse tsc msr pae mce cx8 apic sep mtrr pge mca cmov pat pse36 clflush mmx fxsr sse sse2 ss ht syscall nx pdpe1gb rdtscp lm constant_tsc rep_good nopl xtopology nonstop_tsc cpuid tsc_known_freq pni pclmulqdq ssse3 fma cx16 pcid sse4_1 sse4_2 x2apic movbe popcnt aes xsave avx f16c rdrand hypervisor lahf_lm abm 3dnowprefetch invpcid_single ssbd ibrs ibpb stibp fsgsbase tsc_adjust bmi1 hle avx2 smep bmi2 erms invpcid rtm mpx avx512f avx512dq rdseed adx smap clflushopt clwb avx512cd avx512bw avx512vl xsaveopt xsavec xgetbv1 xsaves arat md_clear arch_capabilities\n",
            "bugs\t\t: cpu_meltdown spectre_v1 spectre_v2 spec_store_bypass l1tf mds swapgs taa\n",
            "bogomips\t: 4000.24\n",
            "clflush size\t: 64\n",
            "cache_alignment\t: 64\n",
            "address sizes\t: 46 bits physical, 48 bits virtual\n",
            "power management:\n",
            "\n"
          ]
        }
      ]
    },
    {
      "cell_type": "code",
      "source": [
        "!df -h"
      ],
      "metadata": {
        "colab": {
          "base_uri": "https://localhost:8080/"
        },
        "id": "FlzcCljduqy8",
        "outputId": "1aefe41e-4946-4140-e868-7a2bbe71cf8a"
      },
      "execution_count": 33,
      "outputs": [
        {
          "output_type": "stream",
          "name": "stdout",
          "text": [
            "Filesystem      Size  Used Avail Use% Mounted on\n",
            "overlay          79G   40G   39G  52% /\n",
            "tmpfs            64M     0   64M   0% /dev\n",
            "shm             5.7G     0  5.7G   0% /dev/shm\n",
            "/dev/root       2.0G  1.2G  817M  59% /sbin/docker-init\n",
            "tmpfs           6.4G   40K  6.4G   1% /var/colab\n",
            "/dev/sda1        86G   45G   42G  52% /opt/bin/.nvidia\n",
            "tmpfs           6.4G     0  6.4G   0% /proc/acpi\n",
            "tmpfs           6.4G     0  6.4G   0% /proc/scsi\n",
            "tmpfs           6.4G     0  6.4G   0% /sys/firmware\n"
          ]
        }
      ]
    },
    {
      "cell_type": "code",
      "source": [
        "!cat /proc/meminfo"
      ],
      "metadata": {
        "colab": {
          "base_uri": "https://localhost:8080/"
        },
        "id": "0VxXa0tiDsGY",
        "outputId": "c874e2c7-eef4-4015-8898-b14ae3098abf"
      },
      "execution_count": null,
      "outputs": [
        {
          "output_type": "stream",
          "name": "stdout",
          "text": [
            "MemTotal:       13302920 kB\n",
            "MemFree:        10078580 kB\n",
            "MemAvailable:   11930768 kB\n",
            "Buffers:          113632 kB\n",
            "Cached:          1838940 kB\n",
            "SwapCached:            0 kB\n",
            "Active:          1500496 kB\n",
            "Inactive:        1477788 kB\n",
            "Active(anon):     927156 kB\n",
            "Inactive(anon):      472 kB\n",
            "Active(file):     573340 kB\n",
            "Inactive(file):  1477316 kB\n",
            "Unevictable:           0 kB\n",
            "Mlocked:               0 kB\n",
            "SwapTotal:             0 kB\n",
            "SwapFree:              0 kB\n",
            "Dirty:               960 kB\n",
            "Writeback:             0 kB\n",
            "AnonPages:       1025708 kB\n",
            "Mapped:           229660 kB\n",
            "Shmem:              1204 kB\n",
            "KReclaimable:      86016 kB\n",
            "Slab:             134900 kB\n",
            "SReclaimable:      86016 kB\n",
            "SUnreclaim:        48884 kB\n",
            "KernelStack:        5024 kB\n",
            "PageTables:        14268 kB\n",
            "NFS_Unstable:          0 kB\n",
            "Bounce:                0 kB\n",
            "WritebackTmp:          0 kB\n",
            "CommitLimit:     6651460 kB\n",
            "Committed_AS:    3057708 kB\n",
            "VmallocTotal:   34359738367 kB\n",
            "VmallocUsed:       47212 kB\n",
            "VmallocChunk:          0 kB\n",
            "Percpu:             1448 kB\n",
            "AnonHugePages:      2048 kB\n",
            "ShmemHugePages:        0 kB\n",
            "ShmemPmdMapped:        0 kB\n",
            "FileHugePages:         0 kB\n",
            "FilePmdMapped:         0 kB\n",
            "CmaTotal:              0 kB\n",
            "CmaFree:               0 kB\n",
            "HugePages_Total:       0\n",
            "HugePages_Free:        0\n",
            "HugePages_Rsvd:        0\n",
            "HugePages_Surp:        0\n",
            "Hugepagesize:       2048 kB\n",
            "Hugetlb:               0 kB\n",
            "DirectMap4k:      156480 kB\n",
            "DirectMap2M:     5083136 kB\n",
            "DirectMap1G:    10485760 kB\n"
          ]
        }
      ]
    },
    {
      "cell_type": "markdown",
      "metadata": {
        "id": "tzB1ZzdWICm1"
      },
      "source": [
        "## Step7: Prediction"
      ]
    },
    {
      "cell_type": "code",
      "execution_count": 40,
      "metadata": {
        "id": "GJhQpArtJMQ1"
      },
      "outputs": [],
      "source": [
        "# The best model of our prediction data on kaggle is svm.\n",
        "# Select the prediction of svm model for output.\n",
        "output_df = pd.DataFrame(test_pred_best__SVM, columns = ['label'])\n",
        "output_df.to_csv('./Output/test_output.csv', sep=\",\", float_format='%d',index_label=\"id\")"
      ]
    }
  ],
  "metadata": {
    "accelerator": "GPU",
    "colab": {
      "collapsed_sections": [],
      "name": "COMP5318.ipynb",
      "toc_visible": true,
      "provenance": []
    },
    "kernelspec": {
      "display_name": "Python 3",
      "name": "python3"
    },
    "language_info": {
      "name": "python"
    }
  },
  "nbformat": 4,
  "nbformat_minor": 0
}